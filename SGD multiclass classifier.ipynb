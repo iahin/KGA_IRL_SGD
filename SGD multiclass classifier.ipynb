{
 "cells": [
  {
   "cell_type": "code",
   "execution_count": 3,
   "id": "60ad3822",
   "metadata": {},
   "outputs": [],
   "source": [
    "import numpy as np\n",
    "from sklearn.preprocessing import StandardScaler\n",
    "from karateclub import Graph2Vec\n",
    "from sklearn.linear_model import SGDClassifier\n",
    "import pandas as pd\n",
    "from sklearn.linear_model import SGDClassifier\n",
    "\n",
    "np.set_printoptions(precision=3)\n",
    "pd.set_option('display.max_colwidth', None)\n",
    "std = StandardScaler()\n"
   ]
  },
  {
   "cell_type": "code",
   "execution_count": 4,
   "id": "80e9e418",
   "metadata": {},
   "outputs": [],
   "source": [
    "with open('data/REDDIT-BINARY_graph2vec_classification_train.npy', 'rb') as f:\n",
    "    redit_train = np.load(f, allow_pickle=True)\n",
    "\n",
    "with open('data/REDDIT-BINARY_graph2vec_classification_test.npy', 'rb') as f:\n",
    "    reddit_test = np.load(f, allow_pickle=True)\n",
    "\n",
    "with open('data/PROTEINS_graph2vec_classification_test.npy', 'rb') as f:\n",
    "    unknown_test = np.load(f, allow_pickle=True)\n",
    "\n",
    "with open('data/PROTEINS_graph2vec_classification_train.npy', 'rb') as f:\n",
    "    unknown_train = np.load(f, allow_pickle=True)\n",
    "\n",
    "\n",
    "with open('data/IMDB-BINARY_graph2vec_classification_test.npy', 'rb') as f:\n",
    "    unknown_test_imdb = np.load(f, allow_pickle=True)\n",
    "\n",
    "with open('data/IMDB-BINARY_graph2vec_classification_train.npy', 'rb') as f:\n",
    "    unknown_train_imdb = np.load(f, allow_pickle=True)\n"
   ]
  },
  {
   "cell_type": "markdown",
   "id": "468b95f0",
   "metadata": {},
   "source": [
    "# SGDclassifier\n",
    "- When inclue multiclass, automaticaly use OvA\n",
    "- Able to get score percentage by using min-max normalisation\n",
    "\n",
    "# Reference\n",
    "- https://www.youtube.com/watch?v=5KyH6v8oKNQ"
   ]
  },
  {
   "cell_type": "code",
   "execution_count": 5,
   "id": "66719ce1",
   "metadata": {},
   "outputs": [],
   "source": [
    "def train_classif(model, epoch, x_embed, y_label, unique_lbl):\n",
    "    for i in range(epoch):\n",
    "        model.partial_fit(x_embed, y_label, unique_lbl)\n",
    "\n",
    "    return model\n",
    "\n",
    "def predict_classif(model, x_test_embed):\n",
    "    y_pred = model.predict([x_test_embed]).squeeze()\n",
    "    y_proba = model.decision_function([x_test_embed])\n",
    "    y_proba = (y_proba - y_proba.min()) / (y_proba.max() - y_proba.min())\n",
    "    y_proba = [x / np.sum(y_proba) for x in y_proba.squeeze()]\n",
    "    y_proba = y_proba[y_pred] * 100\n",
    "    y_proba = np.round(y_proba, 3)\n",
    "    return y_pred, y_proba\n"
   ]
  },
  {
   "cell_type": "code",
   "execution_count": 6,
   "id": "8d6296ac",
   "metadata": {},
   "outputs": [],
   "source": [
    "# Train with REDDIT data as unauth access+data theft with PROTEINS(train and test so have more sample->more accurate) as unknown\n",
    "unknown_protein_label = []\n",
    "# Replace with synthetic label for PROTEINS to equate it to unknwon type class(2==unknwon)\n",
    "for  y in [y for x, y, g in unknown_test] + [y for x, y, g in unknown_train]:\n",
    "    if y == 0:\n",
    "        unknown_protein_label.append(2)\n",
    "    if y == 1:\n",
    "        unknown_protein_label.append(2)\n",
    "\n",
    "X_train = [x for x, y, g in redit_train] + [x for x, y,\n",
    "                                            g in unknown_test] + [x for x, y, g in unknown_train]\n",
    "std_model = std.fit(X_train)\n",
    "X_train = std_model.transform(X_train)\n",
    "y_train = [y for x, y, g in redit_train] + unknown_protein_label\n",
    "\n",
    "X_test = [x for x, y, g in unknown_test]\n",
    "X_test = std_model.transform(X_test)\n",
    "y_test = unknown_protein_label\n"
   ]
  },
  {
   "cell_type": "code",
   "execution_count": 7,
   "id": "ef19da14",
   "metadata": {},
   "outputs": [
    {
     "name": "stdout",
     "output_type": "stream",
     "text": [
      "predicted: 2  with score: 74.006  actual: 2\n"
     ]
    }
   ],
   "source": [
    "# Test to check if given unknwon data, it should predict only 2, never 0 or 1\n",
    "model = SGDClassifier(random_state=47, tol=1e-3)\n",
    "model = train_classif(model, 100, X_train, y_train, [0, 1, 2])\n",
    "pred, score = predict_classif(model, X_test[2])\n",
    "print(\"predicted:\",pred, \" with score:\",score, \" actual:\", y_test[2])\n"
   ]
  },
  {
   "cell_type": "code",
   "execution_count": 8,
   "id": "d5458141",
   "metadata": {},
   "outputs": [
    {
     "name": "stdout",
     "output_type": "stream",
     "text": [
      "predicted: 0  with score: 71.529  actual: 0\n"
     ]
    }
   ],
   "source": [
    "# Test to check if given knwon data, it should predict 0 or 1, never 2\n",
    "model = SGDClassifier(random_state=47, tol=1e-3)\n",
    "model = train_classif(model, 100, X_train, y_train, [0, 1, 2])\n",
    "pred, score = predict_classif(model, X_train[2])\n",
    "print(\"predicted:\", pred, \" with score:\", score, \" actual:\", y_train[2])\n"
   ]
  },
  {
   "cell_type": "code",
   "execution_count": 9,
   "id": "456d0950",
   "metadata": {},
   "outputs": [],
   "source": [
    "# Now train with another data IMDB(train only) to test if the data is predicted as unknown\n",
    "unknown_train_label_imdb = []\n",
    "for x,y,g in unknown_train_imdb:\n",
    "    if y == 0:\n",
    "        unknown_train_label_imdb.append(2)\n",
    "    if y == 1:\n",
    "        unknown_train_label_imdb.append(2)\n",
    "\n",
    "X_train_withunknown = [x for x, y, g in unknown_train_imdb]\n",
    "X_train_withunknown = std_model.transform(X_train_withunknown)\n",
    "y_train_withunknown = unknown_train_label_imdb\n"
   ]
  },
  {
   "cell_type": "code",
   "execution_count": 10,
   "id": "5dda4e39",
   "metadata": {},
   "outputs": [
    {
     "name": "stdout",
     "output_type": "stream",
     "text": [
      "predicted: 2  with score: 64.424  actual: 2\n"
     ]
    }
   ],
   "source": [
    "# Test to check if given unknwon data, it should predict only 2, never 0 or 1\n",
    "model = SGDClassifier(random_state=47, tol=1e-3)\n",
    "model = train_classif(model, 100, X_train, y_train, [0, 1, 2])\n",
    "pred, score = predict_classif(model, X_train_withunknown[0])\n",
    "print(\"predicted:\", pred, \" with score:\",\n",
    "      score, \" actual:\", y_train_withunknown[0])\n"
   ]
  },
  {
   "cell_type": "code",
   "execution_count": 11,
   "id": "81b3e641",
   "metadata": {},
   "outputs": [],
   "source": [
    "# Finally test with known sample REDDIT(test) to check if predicts either of the known classes 0 or 1\n",
    "X_train_known = [x for x, y, g in reddit_test]\n",
    "X_train_known = std_model.transform(X_train_known)\n",
    "y_train_known = [ y for x, y, g in reddit_test]\n"
   ]
  },
  {
   "cell_type": "code",
   "execution_count": 12,
   "id": "35619186",
   "metadata": {},
   "outputs": [
    {
     "name": "stdout",
     "output_type": "stream",
     "text": [
      "predicted: 0  with score: 58.386  actual: 0\n"
     ]
    }
   ],
   "source": [
    "# Test to check if given knwon data, it should predict 0 or 1, never 2\n",
    "model = SGDClassifier(random_state=47, tol=1e-3)\n",
    "model = train_classif(model, 100, X_train, y_train, [0, 1, 2])\n",
    "pred, score = predict_classif(model, X_train_known[4])\n",
    "print(\"predicted:\", pred, \" with score:\",\n",
    "      score, \" actual:\", y_train_known[4])\n"
   ]
  }
 ],
 "metadata": {
  "kernelspec": {
   "display_name": "Python 3.10.2 ('venv': venv)",
   "language": "python",
   "name": "python3"
  },
  "language_info": {
   "codemirror_mode": {
    "name": "ipython",
    "version": 3
   },
   "file_extension": ".py",
   "mimetype": "text/x-python",
   "name": "python",
   "nbconvert_exporter": "python",
   "pygments_lexer": "ipython3",
   "version": "3.10.2"
  },
  "vscode": {
   "interpreter": {
    "hash": "7b2faae4ed1e924a44b341293d3467cd3f3ecf4ac630cce51152da1e02b418ed"
   }
  }
 },
 "nbformat": 4,
 "nbformat_minor": 5
}
